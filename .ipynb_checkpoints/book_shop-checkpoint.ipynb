{
 "cells": [
  {
   "cell_type": "markdown",
   "id": "a00ce38b-9407-439b-a7ee-c880b744e16e",
   "metadata": {},
   "source": [
    "# Key OOP Principles in This Project"
   ]
  },
  {
   "cell_type": "raw",
   "id": "33d918a7-7cab-48f6-888c-7639696afe6e",
   "metadata": {},
   "source": [
    "1.Encapsulation - Separate concerns (models, database, services, routes).\n",
    "2.Abstraction - Hide implementation details inside service classes.\n",
    "3.Inheritance - Extend base classes when necessary.\n",
    "4.Polymorphism - Use dependency injection for flexible implementations."
   ]
  },
  {
   "cell_type": "markdown",
   "id": "445474ad-6fe5-4d24-873d-a7e90b9c4cd7",
   "metadata": {},
   "source": [
    "# Updated Project Structure (OOP Style)"
   ]
  },
  {
   "cell_type": "raw",
   "id": "710e5ec7-9d00-479d-ba7f-653f75bb86a8",
   "metadata": {},
   "source": [
    "fastapi-bookshop/\n",
    "│── app/\n",
    "│   │── main.py\n",
    "│   │── database.py\n",
    "│   │── config.py\n",
    "│   │── models.py\n",
    "│   │── schemas.py\n",
    "│   │── services/\n",
    "│   │   │── book_service.py\n",
    "│   │   └── user_service.py\n",
    "│   └── routes/\n",
    "│       │── book.py\n",
    "│       └── user.py\n",
    "│── venv/  (Virtual Environment)\n",
    "│── requirements.txt\n",
    "│── .env  (For environment variables)\n"
   ]
  },
  {
   "cell_type": "markdown",
   "id": "3a772d2d-2a4a-4429-be26-86737e12b903",
   "metadata": {},
   "source": [
    "# 🔹 Step 1: Setup Database\n",
    "# app/database.py"
   ]
  },
  {
   "cell_type": "code",
   "execution_count": null,
   "id": "2382551f-3e35-486d-a675-6dd54f5b4afb",
   "metadata": {},
   "outputs": [],
   "source": [
    "from sqlalchemy import create_engine\n",
    "from sqlalchemy.ext.declarative import declarative_base\n",
    "from sqlalchemy.orm import sessionmaker\n",
    "\n",
    "DATABASE_URL = \"sqlite:///./bookshop.db\"\n",
    "\n",
    "engine = create_engine(DATABASE_URL, connect_args={\"check_same_thread\": False})\n",
    "SessionLocal = sessionmaker(autocommit=False, autoflush=False, bind=engine)\n",
    "Base = declarative_base()\n",
    "\n",
    "def get_db():\n",
    "    db = SessionLocal()\n",
    "    try:\n",
    "        yield db\n",
    "    finally:\n",
    "        db.close()\n",
    "    "
   ]
  },
  {
   "cell_type": "markdown",
   "id": "0ec4a253-e848-4c13-bb82-bf9b4f3bd13b",
   "metadata": {},
   "source": [
    "# 🔹 Step 2: Define Models / create Table\n",
    "app/models.py"
   ]
  },
  {
   "cell_type": "code",
   "execution_count": null,
   "id": "aa9ddc13-6e82-40f4-a449-bc7c8a0c9671",
   "metadata": {},
   "outputs": [],
   "source": [
    "from sqlalchemy import Integer,Column,String\n",
    "from app.database import Base\n",
    "\n",
    "class Book(Base):\n",
    "    __tablename__ = \"books\"\n",
    "\n",
    "    id = Column(Integer,primary_key=True, index=True)\n",
    "    title = Column(String, index=True)\n",
    "    author = Column(String, index= True)\n",
    "    price = Column(Integer)\n",
    "\n",
    "class User(Base):\n",
    "    __tablename__ = \"users\"\n",
    "\n",
    "    id = Column(Integer, primary_key= True, index=True)\n",
    "    name= Column(String)\n",
    "    email= Column(String, unique=True, index=True)"
   ]
  },
  {
   "cell_type": "markdown",
   "id": "c2e5c0d0-fb92-49e8-b330-d070b308d457",
   "metadata": {},
   "source": [
    "# 🔹 Step 3: Define Schemas\n",
    "app/schemas.py"
   ]
  },
  {
   "cell_type": "code",
   "execution_count": null,
   "id": "474e2fba-ff30-4512-a051-f5fe4afde806",
   "metadata": {},
   "outputs": [],
   "source": [
    "from pydantic import BaseModel\n",
    "from typing import Optional\n",
    "\n",
    "class BookBase(BaseModel):\n",
    "    title: str\n",
    "    author: str\n",
    "    price: int\n",
    "\n",
    "class BookCreate(BookBase):\n",
    "    pass\n",
    "\n",
    "class BookUpdate(BaseModel):\n",
    "    title: Optional[str] = None\n",
    "    author: Optional[str] = None\n",
    "    price: Optional[int] = None\n",
    "\n",
    "class Book(BookBase):\n",
    "    id: int\n",
    "\n",
    "    class Config:\n",
    "        orm_mode = True\n",
    "\n",
    "class UserBase(BaseModel):\n",
    "    name: str\n",
    "    email: str\n",
    "\n",
    "class UserCreate(UserBase):\n",
    "    pass\n",
    "\n",
    "class UserUpdate(BaseModel):\n",
    "    name: Optional[str] = None\n",
    "    email: Optional[str] = None\n",
    "\n",
    "class User(UserBase):\n",
    "    id: int\n",
    "\n",
    "    class Config:\n",
    "        orm_mode = True\n"
   ]
  },
  {
   "cell_type": "markdown",
   "id": "7a73c0de-1c0a-4d43-aa1b-bde6154211a4",
   "metadata": {},
   "source": [
    "# 🔹 Step 4: Implement OOP Services\n",
    "app/services/book_service.py"
   ]
  },
  {
   "cell_type": "code",
   "execution_count": null,
   "id": "3bdd05ef-548d-4f9e-8abb-91ae46bbc91a",
   "metadata": {},
   "outputs": [],
   "source": [
    "class BookService:\n",
    "    def __init__(self, db: Session):\n",
    "        self.db = db\n",
    "\n",
    "    def get_books(self):\n",
    "        return self.db.query(models.Book).all()\n",
    "\n",
    "    def get_book_by_id(self, book_id: int):\n",
    "        return self.db.query(models.Book).filter(models.Book.id == book_id).first()\n",
    "\n",
    "    def create_book(self, book_data: schemas.BookCreate):\n",
    "        new_book = models.Book(**book_data.dict())\n",
    "        self.db.add(new_book)\n",
    "        self.db.commit()\n",
    "        self.db.refresh(new_book)\n",
    "        return new_book\n",
    "\n",
    "    def update_book(self, book_id: int, book_data: schemas.BookUpdate):\n",
    "        book = self.get_book_by_id(book_id)\n",
    "        if not book:\n",
    "            return None\n",
    "        for key, value in book_data.dict(exclude_unset=True).items():\n",
    "            setattr(book, key, value)\n",
    "        self.db.commit()\n",
    "        self.db.refresh(book)\n",
    "        return book\n",
    "\n",
    "    def delete_book(self, book_id: int):\n",
    "        book = self.get_book_by_id(book_id)\n",
    "        if book:\n",
    "            self.db.delete(book)\n",
    "            self.db.commit()\n",
    "            return True\n",
    "        return False\n"
   ]
  },
  {
   "cell_type": "markdown",
   "id": "68c51bbb-4fde-4f76-9743-bc79d9f32b25",
   "metadata": {},
   "source": [
    "# 🔹 User Service\n",
    "app/services/user_service.py"
   ]
  },
  {
   "cell_type": "code",
   "execution_count": null,
   "id": "e8dfb34a-5eae-4c43-baff-2184c9b4cb43",
   "metadata": {},
   "outputs": [],
   "source": [
    "class UserService:\n",
    "    def __init__(self, db: Session):\n",
    "        self.db = db\n",
    "\n",
    "    def get_users(self):\n",
    "        return self.db.query(models.User).all()\n",
    "\n",
    "    def get_user_by_id(self, user_id: int):\n",
    "        return self.db.query(models.User).filter(models.User.id == user_id).first()\n",
    "\n",
    "    def create_user(self, user_data: schemas.UserCreate):\n",
    "        new_user = models.User(**user_data.dict())\n",
    "        self.db.add(new_user)\n",
    "        self.db.commit()\n",
    "        self.db.refresh(new_user)\n",
    "        return new_user\n",
    "\n",
    "    def update_user(self, user_id: int, user_data: schemas.UserUpdate):\n",
    "        user = self.get_user_by_id(user_id)\n",
    "        if not user:\n",
    "            return None\n",
    "        for key, value in user_data.dict(exclude_unset=True).items():\n",
    "            setattr(user, key, value)\n",
    "        self.db.commit()\n",
    "        self.db.refresh(user)\n",
    "        return user\n",
    "\n",
    "    def delete_user(self, user_id: int):\n",
    "        user = self.get_user_by_id(user_id)\n",
    "        if user:\n",
    "            self.db.delete(user)\n",
    "            self.db.commit()\n",
    "            return True\n",
    "        return False\n"
   ]
  },
  {
   "cell_type": "markdown",
   "id": "67fea496-bb8a-4008-bae6-b847b8d75574",
   "metadata": {},
   "source": [
    "# 🔹 Step 5: Define API Routes\n",
    "Book Routes\n",
    "app/routes/book.py"
   ]
  },
  {
   "cell_type": "code",
   "execution_count": null,
   "id": "022dc975-acae-43ab-b697-a2b8139ea97e",
   "metadata": {},
   "outputs": [],
   "source": [
    "from fastapi import APIRouter, Depends, HTTPException\n",
    "from sqlalchemy.orm import Session\n",
    "from app.database import get_db\n",
    "from app.services.book_service import BookService\n",
    "from app import schemas\n",
    "\n",
    "router = APIRouter()\n",
    "\n",
    "@router.get(\"/books\", response_model=list[schemas.Book])\n",
    "def read_books(db: Session = Depends(get_db)):\n",
    "    return BookService(db).get_books()\n",
    "\n",
    "@router.post(\"/books\", response_model=schemas.Book)\n",
    "def create_book(book: schemas.BookCreate, db: Session = Depends(get_db)):\n",
    "    return BookService(db).create_book(book)\n",
    "\n",
    "@router.put(\"/books/{book_id}\", response_model=schemas.Book)\n",
    "def update_book(book_id: int, book: schemas.BookUpdate, db: Session = Depends(get_db)):\n",
    "    updated_book = BookService(db).update_book(book_id, book)\n",
    "    if updated_book:\n",
    "        return updated_book\n",
    "    raise HTTPException(status_code=404, detail=\"Book not found\")\n",
    "\n",
    "\n",
    "@router.delete(\"/books/{book_id}\")\n",
    "def delete_book(book_id: int, db: Session = Depends(get_db)):\n",
    "    if BookService(db).delete_book(book_id):\n",
    "        return {\"message\": \"Book deleted successfully\"}\n",
    "    raise HTTPException(status_code=404, detail=\"Book not found\")\n"
   ]
  },
  {
   "cell_type": "markdown",
   "id": "03cf50d9-dafa-46c5-8e38-5b4abba9d651",
   "metadata": {},
   "source": [
    "# 🔹 User Routes\n",
    "app/routes/user.py"
   ]
  },
  {
   "cell_type": "code",
   "execution_count": null,
   "id": "3f51bcf4-8d12-404a-91ce-d2d646ec5fd5",
   "metadata": {},
   "outputs": [],
   "source": [
    "from fastapi import APIRouter, Depends, HTTPException\n",
    "from sqlalchemy.orm import Session\n",
    "from app.database import get_db\n",
    "from app.services.user_service import UserService\n",
    "from app import schemas\n",
    "\n",
    "router = APIRouter()\n",
    "\n",
    "@router.get(\"/users\", response_model=list[schemas.User])\n",
    "def read_users(db: Session = Depends(get_db)):\n",
    "    return UserService(db).get_users()\n",
    "\n",
    "@router.post(\"/users\", response_model=schemas.User)\n",
    "def create_user(user: schemas.UserCreate, db: Session = Depends(get_db)):\n",
    "    return UserService(db).create_user(user)\n",
    "\n",
    "@router.put(\"/users/{user_id}\", response_model=schemas.User)\n",
    "def update_user(user_id: int, user: schemas.UserUpdate, db: Session = Depends(get_db)):\n",
    "    updated_user = UserService(db).update_user(user_id, user)\n",
    "    if updated_user:\n",
    "        return updated_user\n",
    "    raise HTTPException(status_code=404, detail=\"User not found\")\n",
    "\n",
    "@router.delete(\"/users/{user_id}\")\n",
    "def delete_user(user_id: int, db: Session = Depends(get_db)):\n",
    "    if UserService(db).delete_user(user_id):\n",
    "        return {\"message\": \"User deleted successfully\"}\n",
    "    raise HTTPException(status_code=404, detail=\"User not found\")\n"
   ]
  },
  {
   "cell_type": "markdown",
   "id": "e03ea29b-37ff-4388-90a0-a88026cb8016",
   "metadata": {},
   "source": [
    "# 🔹 Step 6: Create Main App\n",
    "app/main.py"
   ]
  },
  {
   "cell_type": "code",
   "execution_count": null,
   "id": "48bde3f8-8ad8-47c5-9169-7e6cfdfa0c77",
   "metadata": {},
   "outputs": [],
   "source": [
    "from fastapi import FastAPI\n",
    "from app.database import engine,Base\n",
    "from app.routes import book,user\n",
    "\n",
    "#create database table\n",
    "Base.metadata.create_all(blind=engine)\n",
    "\n",
    "app= FastAPI(title= \"FastAPI Bookshop API\",docs_url=\"/docs\",redoc_url=\"/redoc\")\n",
    "\n",
    "app.include_router(book.router,prefix=\"/api\",tags=[\"Books\"])\n",
    "app.include_router(user.router,prefix=\"/api\",tags=[\"Users\"])\n",
    "\n"
   ]
  },
  {
   "cell_type": "markdown",
   "id": "130db4a9-054d-49ac-b6a2-dd0bbf607942",
   "metadata": {},
   "source": [
    "# 🔹 Step 7: Run the App"
   ]
  },
  {
   "cell_type": "raw",
   "id": "b660d506-17cb-4240-90b3-522b177bab8a",
   "metadata": {},
   "source": [
    "cd fastapi-bookshop\n",
    "uvicorn app.main:app --reload\n",
    "3️⃣ Visit API Docs\n",
    "📌 Swagger UI: http://127.0.0.1:8000/docs"
   ]
  }
 ],
 "metadata": {
  "kernelspec": {
   "display_name": "Python 3 (ipykernel)",
   "language": "python",
   "name": "python3"
  },
  "language_info": {
   "codemirror_mode": {
    "name": "ipython",
    "version": 3
   },
   "file_extension": ".py",
   "mimetype": "text/x-python",
   "name": "python",
   "nbconvert_exporter": "python",
   "pygments_lexer": "ipython3",
   "version": "3.12.8"
  }
 },
 "nbformat": 4,
 "nbformat_minor": 5
}
